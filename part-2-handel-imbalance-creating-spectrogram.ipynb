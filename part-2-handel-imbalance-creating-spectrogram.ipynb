{
 "cells": [
  {
   "cell_type": "code",
   "execution_count": 1,
   "metadata": {
    "_cell_guid": "b1076dfc-b9ad-4769-8c92-a6c4dae69d19",
    "_uuid": "8f2839f25d086af736a60e9eeb907d3b93b6e0e5",
    "execution": {
     "iopub.execute_input": "2020-09-24T12:01:34.511521Z",
     "iopub.status.busy": "2020-09-24T12:01:34.510600Z",
     "iopub.status.idle": "2020-09-24T12:01:42.933297Z",
     "shell.execute_reply": "2020-09-24T12:01:42.932097Z"
    },
    "papermill": {
     "duration": 8.443436,
     "end_time": "2020-09-24T12:01:42.933433",
     "exception": false,
     "start_time": "2020-09-24T12:01:34.489997",
     "status": "completed"
    },
    "tags": []
   },
   "outputs": [],
   "source": [
    "# This Python 3 environment comes with many helpful analytics libraries installed\n",
    "# It is defined by the kaggle/python Docker image: https://github.com/kaggle/docker-python\n",
    "# For example, here's several helpful packages to load\n",
    "\n",
    "import numpy as np # linear algebra\n",
    "import pandas as pd # data processing, CSV file I/O (e.g. pd.read_csv)\n",
    "import matplotlib.pyplot as plt\n",
    "import seaborn as sns\n",
    "import tensorflow as tf\n",
    "from tensorflow import keras\n",
    "import librosa as lb\n",
    "# Input data files are available in the read-only \"../input/\" directory\n",
    "# For example, running this (by clicking run or pressing Shift+Enter) will list all files under the input directory\n",
    "\n",
    "import os\n",
    "\n",
    "# You can write up to 5GB to the current directory (/kaggle/working/) that gets preserved as output when you create a version using \"Save & Run All\" \n",
    "# You can also write temporary files to /kaggle/temp/, but they won't be saved outside of the current session"
   ]
  },
  {
   "cell_type": "markdown",
   "metadata": {
    "papermill": {
     "duration": 0.01416,
     "end_time": "2020-09-24T12:01:42.961496",
     "exception": false,
     "start_time": "2020-09-24T12:01:42.947336",
     "status": "completed"
    },
    "tags": []
   },
   "source": [
    "# Handeling Class Imbalance"
   ]
  },
  {
   "cell_type": "code",
   "execution_count": 2,
   "metadata": {
    "_cell_guid": "79c7e3d0-c299-4dcb-8224-4455121ee9b0",
    "_uuid": "d629ff2d2480ee46fbb7e2d37f6b5fab8052498a",
    "execution": {
     "iopub.execute_input": "2020-09-24T12:01:43.000264Z",
     "iopub.status.busy": "2020-09-24T12:01:42.999515Z",
     "iopub.status.idle": "2020-09-24T12:01:43.026403Z",
     "shell.execute_reply": "2020-09-24T12:01:43.025710Z"
    },
    "papermill": {
     "duration": 0.051747,
     "end_time": "2020-09-24T12:01:43.026527",
     "exception": false,
     "start_time": "2020-09-24T12:01:42.974780",
     "status": "completed"
    },
    "tags": []
   },
   "outputs": [
    {
     "data": {
      "text/html": [
       "<div>\n",
       "<style scoped>\n",
       "    .dataframe tbody tr th:only-of-type {\n",
       "        vertical-align: middle;\n",
       "    }\n",
       "\n",
       "    .dataframe tbody tr th {\n",
       "        vertical-align: top;\n",
       "    }\n",
       "\n",
       "    .dataframe thead th {\n",
       "        text-align: right;\n",
       "    }\n",
       "</style>\n",
       "<table border=\"1\" class=\"dataframe\">\n",
       "  <thead>\n",
       "    <tr style=\"text-align: right;\">\n",
       "      <th></th>\n",
       "      <th>pid</th>\n",
       "      <th>disease</th>\n",
       "    </tr>\n",
       "  </thead>\n",
       "  <tbody>\n",
       "    <tr>\n",
       "      <th>0</th>\n",
       "      <td>101</td>\n",
       "      <td>URTI</td>\n",
       "    </tr>\n",
       "    <tr>\n",
       "      <th>1</th>\n",
       "      <td>102</td>\n",
       "      <td>Healthy</td>\n",
       "    </tr>\n",
       "    <tr>\n",
       "      <th>2</th>\n",
       "      <td>103</td>\n",
       "      <td>Asthma</td>\n",
       "    </tr>\n",
       "    <tr>\n",
       "      <th>3</th>\n",
       "      <td>104</td>\n",
       "      <td>COPD</td>\n",
       "    </tr>\n",
       "    <tr>\n",
       "      <th>4</th>\n",
       "      <td>105</td>\n",
       "      <td>URTI</td>\n",
       "    </tr>\n",
       "  </tbody>\n",
       "</table>\n",
       "</div>"
      ],
      "text/plain": [
       "   pid  disease\n",
       "0  101     URTI\n",
       "1  102  Healthy\n",
       "2  103   Asthma\n",
       "3  104     COPD\n",
       "4  105     URTI"
      ]
     },
     "execution_count": 2,
     "metadata": {},
     "output_type": "execute_result"
    }
   ],
   "source": [
    "diagnosis=pd.read_csv('/kaggle/input/respiratory-sound-database/respiratory_sound_database/Respiratory_Sound_Database/patient_diagnosis.csv',names=['pid','disease'])\n",
    "diagnosis.head()"
   ]
  },
  {
   "cell_type": "markdown",
   "metadata": {
    "papermill": {
     "duration": 0.014005,
     "end_time": "2020-09-24T12:01:43.055210",
     "exception": false,
     "start_time": "2020-09-24T12:01:43.041205",
     "status": "completed"
    },
    "tags": []
   },
   "source": [
    "* In the following plot we can see that classes are **imbalanced** so we must split them into train and validation set via stratify"
   ]
  },
  {
   "cell_type": "code",
   "execution_count": 3,
   "metadata": {
    "execution": {
     "iopub.execute_input": "2020-09-24T12:01:43.101288Z",
     "iopub.status.busy": "2020-09-24T12:01:43.100479Z",
     "iopub.status.idle": "2020-09-24T12:01:43.315051Z",
     "shell.execute_reply": "2020-09-24T12:01:43.314506Z"
    },
    "papermill": {
     "duration": 0.245755,
     "end_time": "2020-09-24T12:01:43.315172",
     "exception": false,
     "start_time": "2020-09-24T12:01:43.069417",
     "status": "completed"
    },
    "tags": []
   },
   "outputs": [
    {
     "data": {
      "text/plain": [
       "(array([0, 1, 2, 3, 4, 5, 6, 7]), <a list of 8 Text major ticklabel objects>)"
      ]
     },
     "execution_count": 3,
     "metadata": {},
     "output_type": "execute_result"
    },
    {
     "data": {
      "image/png": "[encoded data removed]",
      "text/plain": [
       "<Figure size 432x288 with 1 Axes>"
      ]
     },
     "metadata": {
      "needs_background": "light"
     },
     "output_type": "display_data"
    }
   ],
   "source": [
    "sns.countplot(diagnosis.disease)\n",
    "plt.xticks(rotation=90)"
   ]
  },
  {
   "cell_type": "markdown",
   "metadata": {
    "papermill": {
     "duration": 0.016448,
     "end_time": "2020-09-24T12:01:43.346775",
     "exception": false,
     "start_time": "2020-09-24T12:01:43.330327",
     "status": "completed"
    },
    "tags": []
   },
   "source": [
    "> We will try to extract **Id** of each processed audio file and then merge them with their respective **class label** so we can split files in to train and validation folder in **stratified manner**"
   ]
  },
  {
   "cell_type": "code",
   "execution_count": 4,
   "metadata": {
    "execution": {
     "iopub.execute_input": "2020-09-24T12:01:43.382779Z",
     "iopub.status.busy": "2020-09-24T12:01:43.382115Z",
     "iopub.status.idle": "2020-09-24T12:01:43.386228Z",
     "shell.execute_reply": "2020-09-24T12:01:43.385673Z"
    },
    "papermill": {
     "duration": 0.024365,
     "end_time": "2020-09-24T12:01:43.386386",
     "exception": false,
     "start_time": "2020-09-24T12:01:43.362021",
     "status": "completed"
    },
    "tags": []
   },
   "outputs": [],
   "source": [
    "import os\n",
    "def extractId(filename):\n",
    "    return filename.split('_')[0]"
   ]
  },
  {
   "cell_type": "code",
   "execution_count": 5,
   "metadata": {
    "execution": {
     "iopub.execute_input": "2020-09-24T12:01:43.425272Z",
     "iopub.status.busy": "2020-09-24T12:01:43.424419Z",
     "iopub.status.idle": "2020-09-24T12:01:44.839961Z",
     "shell.execute_reply": "2020-09-24T12:01:44.839360Z"
    },
    "papermill": {
     "duration": 1.438303,
     "end_time": "2020-09-24T12:01:44.840093",
     "exception": false,
     "start_time": "2020-09-24T12:01:43.401790",
     "status": "completed"
    },
    "tags": []
   },
   "outputs": [
    {
     "data": {
      "text/html": [
       "<div>\n",
       "<style scoped>\n",
       "    .dataframe tbody tr th:only-of-type {\n",
       "        vertical-align: middle;\n",
       "    }\n",
       "\n",
       "    .dataframe tbody tr th {\n",
       "        vertical-align: top;\n",
       "    }\n",
       "\n",
       "    .dataframe thead th {\n",
       "        text-align: right;\n",
       "    }\n",
       "</style>\n",
       "<table border=\"1\" class=\"dataframe\">\n",
       "  <thead>\n",
       "    <tr style=\"text-align: right;\">\n",
       "      <th></th>\n",
       "      <th>pid</th>\n",
       "      <th>filename</th>\n",
       "    </tr>\n",
       "  </thead>\n",
       "  <tbody>\n",
       "    <tr>\n",
       "      <th>0</th>\n",
       "      <td>136</td>\n",
       "      <td>136_1b1_Ar_sc_Meditron_2.wav</td>\n",
       "    </tr>\n",
       "    <tr>\n",
       "      <th>1</th>\n",
       "      <td>187</td>\n",
       "      <td>187_1b1_Ll_sc_Meditron_5.wav</td>\n",
       "    </tr>\n",
       "    <tr>\n",
       "      <th>2</th>\n",
       "      <td>222</td>\n",
       "      <td>222_1b1_Lr_sc_Meditron_17.wav</td>\n",
       "    </tr>\n",
       "    <tr>\n",
       "      <th>3</th>\n",
       "      <td>141</td>\n",
       "      <td>141_1b3_Pr_mc_LittC2SE_2.wav</td>\n",
       "    </tr>\n",
       "    <tr>\n",
       "      <th>4</th>\n",
       "      <td>175</td>\n",
       "      <td>175_1b1_Pr_sc_Litt3200_3.wav</td>\n",
       "    </tr>\n",
       "  </tbody>\n",
       "</table>\n",
       "</div>"
      ],
      "text/plain": [
       "   pid                       filename\n",
       "0  136   136_1b1_Ar_sc_Meditron_2.wav\n",
       "1  187   187_1b1_Ll_sc_Meditron_5.wav\n",
       "2  222  222_1b1_Lr_sc_Meditron_17.wav\n",
       "3  141   141_1b3_Pr_mc_LittC2SE_2.wav\n",
       "4  175   175_1b1_Pr_sc_Litt3200_3.wav"
      ]
     },
     "execution_count": 5,
     "metadata": {},
     "output_type": "execute_result"
    }
   ],
   "source": [
    "path='/kaggle/input/preprocessing-part-1/processed_audio_files/'\n",
    "length=len(os.listdir(path))\n",
    "index=range(length)\n",
    "i=0\n",
    "files_df=pd.DataFrame(index=index,columns=['pid','filename'])\n",
    "for f in os.listdir(path):\n",
    "    files_df.iloc[i]['pid']=extractId(f)\n",
    "    files_df.iloc[i]['filename']=f\n",
    "    i+=1\n",
    "files_df.head()"
   ]
  },
  {
   "cell_type": "code",
   "execution_count": 6,
   "metadata": {
    "execution": {
     "iopub.execute_input": "2020-09-24T12:01:44.881549Z",
     "iopub.status.busy": "2020-09-24T12:01:44.880498Z",
     "iopub.status.idle": "2020-09-24T12:01:44.884523Z",
     "shell.execute_reply": "2020-09-24T12:01:44.883886Z"
    },
    "papermill": {
     "duration": 0.027857,
     "end_time": "2020-09-24T12:01:44.884639",
     "exception": false,
     "start_time": "2020-09-24T12:01:44.856782",
     "status": "completed"
    },
    "tags": []
   },
   "outputs": [],
   "source": [
    "files_df.pid=files_df.pid.astype('int64') # both pid's must be of same dtype for them to merge"
   ]
  },
  {
   "cell_type": "code",
   "execution_count": 7,
   "metadata": {
    "execution": {
     "iopub.execute_input": "2020-09-24T12:01:44.926322Z",
     "iopub.status.busy": "2020-09-24T12:01:44.925564Z",
     "iopub.status.idle": "2020-09-24T12:01:44.946352Z",
     "shell.execute_reply": "2020-09-24T12:01:44.946917Z"
    },
    "papermill": {
     "duration": 0.046029,
     "end_time": "2020-09-24T12:01:44.947089",
     "exception": false,
     "start_time": "2020-09-24T12:01:44.901060",
     "status": "completed"
    },
    "tags": []
   },
   "outputs": [
    {
     "data": {
      "text/html": [
       "<div>\n",
       "<style scoped>\n",
       "    .dataframe tbody tr th:only-of-type {\n",
       "        vertical-align: middle;\n",
       "    }\n",
       "\n",
       "    .dataframe tbody tr th {\n",
       "        vertical-align: top;\n",
       "    }\n",
       "\n",
       "    .dataframe thead th {\n",
       "        text-align: right;\n",
       "    }\n",
       "</style>\n",
       "<table border=\"1\" class=\"dataframe\">\n",
       "  <thead>\n",
       "    <tr style=\"text-align: right;\">\n",
       "      <th></th>\n",
       "      <th>pid</th>\n",
       "      <th>filename</th>\n",
       "      <th>disease</th>\n",
       "    </tr>\n",
       "  </thead>\n",
       "  <tbody>\n",
       "    <tr>\n",
       "      <th>0</th>\n",
       "      <td>136</td>\n",
       "      <td>136_1b1_Ar_sc_Meditron_2.wav</td>\n",
       "      <td>Healthy</td>\n",
       "    </tr>\n",
       "    <tr>\n",
       "      <th>1</th>\n",
       "      <td>136</td>\n",
       "      <td>136_1b1_Ar_sc_Meditron_7.wav</td>\n",
       "      <td>Healthy</td>\n",
       "    </tr>\n",
       "    <tr>\n",
       "      <th>2</th>\n",
       "      <td>136</td>\n",
       "      <td>136_1b1_Ar_sc_Meditron_6.wav</td>\n",
       "      <td>Healthy</td>\n",
       "    </tr>\n",
       "    <tr>\n",
       "      <th>3</th>\n",
       "      <td>136</td>\n",
       "      <td>136_1b1_Ar_sc_Meditron_4.wav</td>\n",
       "      <td>Healthy</td>\n",
       "    </tr>\n",
       "    <tr>\n",
       "      <th>4</th>\n",
       "      <td>136</td>\n",
       "      <td>136_1b1_Ar_sc_Meditron_3.wav</td>\n",
       "      <td>Healthy</td>\n",
       "    </tr>\n",
       "  </tbody>\n",
       "</table>\n",
       "</div>"
      ],
      "text/plain": [
       "   pid                      filename  disease\n",
       "0  136  136_1b1_Ar_sc_Meditron_2.wav  Healthy\n",
       "1  136  136_1b1_Ar_sc_Meditron_7.wav  Healthy\n",
       "2  136  136_1b1_Ar_sc_Meditron_6.wav  Healthy\n",
       "3  136  136_1b1_Ar_sc_Meditron_4.wav  Healthy\n",
       "4  136  136_1b1_Ar_sc_Meditron_3.wav  Healthy"
      ]
     },
     "execution_count": 7,
     "metadata": {},
     "output_type": "execute_result"
    }
   ],
   "source": [
    "data=pd.merge(files_df,diagnosis,on='pid')\n",
    "data.head()"
   ]
  },
  {
   "cell_type": "code",
   "execution_count": 8,
   "metadata": {
    "execution": {
     "iopub.execute_input": "2020-09-24T12:01:44.986184Z",
     "iopub.status.busy": "2020-09-24T12:01:44.985125Z",
     "iopub.status.idle": "2020-09-24T12:01:45.148157Z",
     "shell.execute_reply": "2020-09-24T12:01:45.147563Z"
    },
    "papermill": {
     "duration": 0.183694,
     "end_time": "2020-09-24T12:01:45.148285",
     "exception": false,
     "start_time": "2020-09-24T12:01:44.964591",
     "status": "completed"
    },
    "tags": []
   },
   "outputs": [
    {
     "data": {
      "text/plain": [
       "(array([0, 1, 2, 3, 4, 5, 6, 7]), <a list of 8 Text major ticklabel objects>)"
      ]
     },
     "execution_count": 8,
     "metadata": {},
     "output_type": "execute_result"
    },
    {
     "data": {
      "image/png": "[encoded data removed]",
      "text/plain": [
       "<Figure size 432x288 with 1 Axes>"
      ]
     },
     "metadata": {
      "needs_background": "light"
     },
     "output_type": "display_data"
    }
   ],
   "source": [
    "sns.countplot(data.disease)\n",
    "plt.xticks(rotation=90)"
   ]
  },
  {
   "cell_type": "markdown",
   "metadata": {
    "papermill": {
     "duration": 0.017687,
     "end_time": "2020-09-24T12:01:45.184192",
     "exception": false,
     "start_time": "2020-09-24T12:01:45.166505",
     "status": "completed"
    },
    "tags": []
   },
   "source": [
    "> We can see that classes are very **skewed**"
   ]
  },
  {
   "cell_type": "code",
   "execution_count": 9,
   "metadata": {
    "execution": {
     "iopub.execute_input": "2020-09-24T12:01:45.233630Z",
     "iopub.status.busy": "2020-09-24T12:01:45.232915Z",
     "iopub.status.idle": "2020-09-24T12:01:45.247413Z",
     "shell.execute_reply": "2020-09-24T12:01:45.246797Z"
    },
    "papermill": {
     "duration": 0.045219,
     "end_time": "2020-09-24T12:01:45.247529",
     "exception": false,
     "start_time": "2020-09-24T12:01:45.202310",
     "status": "completed"
    },
    "tags": []
   },
   "outputs": [],
   "source": [
    "from sklearn.model_selection import train_test_split\n",
    "Xtrain,Xval,ytrain,yval=train_test_split(data,data.disease,stratify=data.disease,random_state=42,test_size=0.25)"
   ]
  },
  {
   "cell_type": "markdown",
   "metadata": {
    "papermill": {
     "duration": 0.017759,
     "end_time": "2020-09-24T12:01:45.283654",
     "exception": false,
     "start_time": "2020-09-24T12:01:45.265895",
     "status": "completed"
    },
    "tags": []
   },
   "source": [
    "* Above i used the **stratify** arg of **train_test_split** and set it to disease to stratify data based on **class labels**"
   ]
  },
  {
   "cell_type": "code",
   "execution_count": 10,
   "metadata": {
    "execution": {
     "iopub.execute_input": "2020-09-24T12:01:45.328403Z",
     "iopub.status.busy": "2020-09-24T12:01:45.327471Z",
     "iopub.status.idle": "2020-09-24T12:01:45.353519Z",
     "shell.execute_reply": "2020-09-24T12:01:45.352941Z"
    },
    "papermill": {
     "duration": 0.051587,
     "end_time": "2020-09-24T12:01:45.353630",
     "exception": false,
     "start_time": "2020-09-24T12:01:45.302043",
     "status": "completed"
    },
    "tags": []
   },
   "outputs": [
    {
     "data": {
      "text/plain": [
       "COPD              0.832979\n",
       "Healthy           0.046588\n",
       "Pneumonia         0.041369\n",
       "URTI              0.035183\n",
       "Bronchiolitis     0.023197\n",
       "Bronchiectasis    0.015078\n",
       "LRTI              0.004639\n",
       "Asthma            0.000967\n",
       "Name: disease, dtype: float64"
      ]
     },
     "execution_count": 10,
     "metadata": {},
     "output_type": "execute_result"
    }
   ],
   "source": [
    "Xtrain.disease.value_counts()/Xtrain.shape[0]"
   ]
  },
  {
   "cell_type": "code",
   "execution_count": 11,
   "metadata": {
    "execution": {
     "iopub.execute_input": "2020-09-24T12:01:45.400963Z",
     "iopub.status.busy": "2020-09-24T12:01:45.400052Z",
     "iopub.status.idle": "2020-09-24T12:01:45.404848Z",
     "shell.execute_reply": "2020-09-24T12:01:45.404149Z"
    },
    "papermill": {
     "duration": 0.032468,
     "end_time": "2020-09-24T12:01:45.404965",
     "exception": false,
     "start_time": "2020-09-24T12:01:45.372497",
     "status": "completed"
    },
    "tags": []
   },
   "outputs": [
    {
     "data": {
      "text/plain": [
       "COPD              0.833043\n",
       "Healthy           0.046957\n",
       "Pneumonia         0.041159\n",
       "URTI              0.035362\n",
       "Bronchiolitis     0.023188\n",
       "Bronchiectasis    0.015072\n",
       "LRTI              0.004638\n",
       "Asthma            0.000580\n",
       "Name: disease, dtype: float64"
      ]
     },
     "execution_count": 11,
     "metadata": {},
     "output_type": "execute_result"
    }
   ],
   "source": [
    "Xval.disease.value_counts()/Xval.shape[0]"
   ]
  },
  {
   "cell_type": "markdown",
   "metadata": {
    "papermill": {
     "duration": 0.019144,
     "end_time": "2020-09-24T12:01:45.443722",
     "exception": false,
     "start_time": "2020-09-24T12:01:45.424578",
     "status": "completed"
    },
    "tags": []
   },
   "source": [
    "> % of class labels in same in both train and val as we can see above\n",
    "\n",
    "* We did this because this will help our model to **learn and validate classes** , it will not be like we are training only on COPD disease and there is no COPD in our validation"
   ]
  },
  {
   "cell_type": "markdown",
   "metadata": {
    "papermill": {
     "duration": 0.019065,
     "end_time": "2020-09-24T12:01:45.482454",
     "exception": false,
     "start_time": "2020-09-24T12:01:45.463389",
     "status": "completed"
    },
    "tags": []
   },
   "source": [
    "# Visualizing MFCCS "
   ]
  },
  {
   "cell_type": "markdown",
   "metadata": {
    "papermill": {
     "duration": 0.018971,
     "end_time": "2020-09-24T12:01:45.520829",
     "exception": false,
     "start_time": "2020-09-24T12:01:45.501858",
     "status": "completed"
    },
    "tags": []
   },
   "source": [
    "> I have used one file as an example here."
   ]
  },
  {
   "cell_type": "code",
   "execution_count": 12,
   "metadata": {
    "execution": {
     "iopub.execute_input": "2020-09-24T12:01:45.563046Z",
     "iopub.status.busy": "2020-09-24T12:01:45.562312Z",
     "iopub.status.idle": "2020-09-24T12:01:45.790102Z",
     "shell.execute_reply": "2020-09-24T12:01:45.790779Z"
    },
    "papermill": {
     "duration": 0.25061,
     "end_time": "2020-09-24T12:01:45.790958",
     "exception": false,
     "start_time": "2020-09-24T12:01:45.540348",
     "status": "completed"
    },
    "tags": []
   },
   "outputs": [
    {
     "data": {
      "text/plain": [
       "[Text(0.5, 1.0, 'MFCC')]"
      ]
     },
     "execution_count": 12,
     "metadata": {},
     "output_type": "execute_result"
    },
    {
     "data": {
      "image/png": "[encoded data removed]",
      "text/plain": [
       "<Figure size 432x288 with 2 Axes>"
      ]
     },
     "metadata": {
      "needs_background": "light"
     },
     "output_type": "display_data"
    }
   ],
   "source": [
    "path='../input/preprocessing-part-1/processed_audio_files/'\n",
    "\n",
    "import librosa.display\n",
    "file=path + Xtrain.iloc[193].filename \n",
    "sound,sample_rate=lb.load(file)\n",
    "mfccs = lb.feature.mfcc(y=sound, sr=sample_rate, n_mfcc=40)\n",
    "fig, ax = plt.subplots()\n",
    "img = librosa.display.specshow(mfccs, x_axis='time', ax=ax)\n",
    "fig.colorbar(img, ax=ax)\n",
    "ax.set(title='MFCC')"
   ]
  },
  {
   "cell_type": "markdown",
   "metadata": {
    "papermill": {
     "duration": 0.020285,
     "end_time": "2020-09-24T12:01:45.833553",
     "exception": false,
     "start_time": "2020-09-24T12:01:45.813268",
     "status": "completed"
    },
    "tags": []
   },
   "source": [
    "* Here I am going to output **train & test datasets** so that i can use the **filenames** in then in another notebook where i will try other **feature extraction** methods inclusive of MFCC's and adopt the one or many based on **performance**."
   ]
  },
  {
   "cell_type": "code",
   "execution_count": 13,
   "metadata": {
    "execution": {
     "iopub.execute_input": "2020-09-24T12:01:45.878635Z",
     "iopub.status.busy": "2020-09-24T12:01:45.877964Z",
     "iopub.status.idle": "2020-09-24T12:01:46.351425Z",
     "shell.execute_reply": "2020-09-24T12:01:46.350736Z"
    },
    "papermill": {
     "duration": 0.497149,
     "end_time": "2020-09-24T12:01:46.351547",
     "exception": false,
     "start_time": "2020-09-24T12:01:45.854398",
     "status": "completed"
    },
    "tags": []
   },
   "outputs": [],
   "source": [
    "Xtrain.to_csv('train.csv')\n",
    "Xval.to_csv('val.csv')"
   ]
  }
 ],
 "metadata": {
  "kernelspec": {
   "display_name": "Python 3",
   "language": "python",
   "name": "python3"
  },
  "language_info": {
   "codemirror_mode": {
    "name": "ipython",
    "version": 3
   },
   "file_extension": ".py",
   "mimetype": "text/x-python",
   "name": "python",
   "nbconvert_exporter": "python",
   "pygments_lexer": "ipython3",
   "version": "3.7.6"
  },
  "papermill": {
   "duration": 16.804692,
   "end_time": "2020-09-24T12:01:46.481402",
   "environment_variables": {},
   "exception": null,
   "input_path": "__notebook__.ipynb",
   "output_path": "__notebook__.ipynb",
   "parameters": {},
   "start_time": "2020-09-24T12:01:29.676710",
   "version": "2.1.0"
  }
 },
 "nbformat": 4,
 "nbformat_minor": 4
}

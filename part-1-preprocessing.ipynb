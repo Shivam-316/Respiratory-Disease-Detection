{
 "cells": [
  {
   "cell_type": "code",
   "execution_count": 1,
   "metadata": {
    "_cell_guid": "b1076dfc-b9ad-4769-8c92-a6c4dae69d19",
    "_uuid": "8f2839f25d086af736a60e9eeb907d3b93b6e0e5",
    "execution": {
     "iopub.execute_input": "2020-09-23T14:46:10.082099Z",
     "iopub.status.busy": "2020-09-23T14:46:10.081407Z",
     "iopub.status.idle": "2020-09-23T14:46:17.589761Z",
     "shell.execute_reply": "2020-09-23T14:46:17.588882Z"
    },
    "papermill": {
     "duration": 7.530525,
     "end_time": "2020-09-23T14:46:17.589990",
     "exception": false,
     "start_time": "2020-09-23T14:46:10.059465",
     "status": "completed"
    },
    "tags": []
   },
   "outputs": [],
   "source": [
    "# This Python 3 environment comes with many helpful analytics libraries installed\n",
    "# It is defined by the kaggle/python Docker image: https://github.com/kaggle/docker-python\n",
    "# For example, here's several helpful packages to load\n",
    "\n",
    "import numpy as np # linear algebra\n",
    "import pandas as pd # data processing, CSV file I/O (e.g. pd.read_csv)\n",
    "import tensorflow as tf\n",
    "from tensorflow import keras\n",
    "import matplotlib.pyplot as plt\n",
    "import seaborn as sns\n",
    "import librosa.display\n",
    "# Input data files are available in the read-only \"../input/\" directory\n",
    "# For example, running this (by clicking run or pressing Shift+Enter) will list all files under the input directory\n",
    "\n",
    "import os\n",
    "# You can write up to 5GB to the current directory (/kaggle/working/) that gets preserved as output when you create a version using \"Save & Run All\" \n",
    "# You can also write temporary files to /kaggle/temp/, but they won't be saved outside of the current session"
   ]
  },
  {
   "cell_type": "markdown",
   "metadata": {
    "papermill": {
     "duration": 0.021888,
     "end_time": "2020-09-23T14:46:17.633270",
     "exception": false,
     "start_time": "2020-09-23T14:46:17.611382",
     "status": "completed"
    },
    "tags": []
   },
   "source": [
    "# Step-1\n",
    "\n",
    "# Reading and Utilizing Provided Data"
   ]
  },
  {
   "cell_type": "code",
   "execution_count": 2,
   "metadata": {
    "_cell_guid": "79c7e3d0-c299-4dcb-8224-4455121ee9b0",
    "_uuid": "d629ff2d2480ee46fbb7e2d37f6b5fab8052498a",
    "execution": {
     "iopub.execute_input": "2020-09-23T14:46:17.704191Z",
     "iopub.status.busy": "2020-09-23T14:46:17.703293Z",
     "iopub.status.idle": "2020-09-23T14:46:17.718809Z",
     "shell.execute_reply": "2020-09-23T14:46:17.719746Z"
    },
    "papermill": {
     "duration": 0.063717,
     "end_time": "2020-09-23T14:46:17.720006",
     "exception": false,
     "start_time": "2020-09-23T14:46:17.656289",
     "status": "completed"
    },
    "tags": []
   },
   "outputs": [],
   "source": [
    "patient_data=pd.read_csv('/kaggle/input/respiratory-sound-database/Respiratory_Sound_Database/Respiratory_Sound_Database/patient_diagnosis.csv',names=['pid','disease'])"
   ]
  },
  {
   "cell_type": "code",
   "execution_count": 3,
   "metadata": {
    "execution": {
     "iopub.execute_input": "2020-09-23T14:46:17.805989Z",
     "iopub.status.busy": "2020-09-23T14:46:17.805142Z",
     "iopub.status.idle": "2020-09-23T14:46:17.821280Z",
     "shell.execute_reply": "2020-09-23T14:46:17.822334Z"
    },
    "papermill": {
     "duration": 0.075557,
     "end_time": "2020-09-23T14:46:17.822491",
     "exception": false,
     "start_time": "2020-09-23T14:46:17.746934",
     "status": "completed"
    },
    "tags": []
   },
   "outputs": [
    {
     "data": {
      "text/html": [
       "<div>\n",
       "<style scoped>\n",
       "    .dataframe tbody tr th:only-of-type {\n",
       "        vertical-align: middle;\n",
       "    }\n",
       "\n",
       "    .dataframe tbody tr th {\n",
       "        vertical-align: top;\n",
       "    }\n",
       "\n",
       "    .dataframe thead th {\n",
       "        text-align: right;\n",
       "    }\n",
       "</style>\n",
       "<table border=\"1\" class=\"dataframe\">\n",
       "  <thead>\n",
       "    <tr style=\"text-align: right;\">\n",
       "      <th></th>\n",
       "      <th>pid</th>\n",
       "      <th>disease</th>\n",
       "    </tr>\n",
       "  </thead>\n",
       "  <tbody>\n",
       "    <tr>\n",
       "      <th>0</th>\n",
       "      <td>101</td>\n",
       "      <td>URTI</td>\n",
       "    </tr>\n",
       "    <tr>\n",
       "      <th>1</th>\n",
       "      <td>102</td>\n",
       "      <td>Healthy</td>\n",
       "    </tr>\n",
       "    <tr>\n",
       "      <th>2</th>\n",
       "      <td>103</td>\n",
       "      <td>Asthma</td>\n",
       "    </tr>\n",
       "    <tr>\n",
       "      <th>3</th>\n",
       "      <td>104</td>\n",
       "      <td>COPD</td>\n",
       "    </tr>\n",
       "    <tr>\n",
       "      <th>4</th>\n",
       "      <td>105</td>\n",
       "      <td>URTI</td>\n",
       "    </tr>\n",
       "  </tbody>\n",
       "</table>\n",
       "</div>"
      ],
      "text/plain": [
       "   pid  disease\n",
       "0  101     URTI\n",
       "1  102  Healthy\n",
       "2  103   Asthma\n",
       "3  104     COPD\n",
       "4  105     URTI"
      ]
     },
     "execution_count": 3,
     "metadata": {},
     "output_type": "execute_result"
    }
   ],
   "source": [
    "patient_data.head()"
   ]
  },
  {
   "cell_type": "markdown",
   "metadata": {
    "papermill": {
     "duration": 0.033539,
     "end_time": "2020-09-23T14:46:17.883693",
     "exception": false,
     "start_time": "2020-09-23T14:46:17.850154",
     "status": "completed"
    },
    "tags": []
   },
   "source": [
    "* Here we have Patient Ids and Disease info\n",
    "  "
   ]
  },
  {
   "cell_type": "markdown",
   "metadata": {
    "papermill": {
     "duration": 0.022748,
     "end_time": "2020-09-23T14:46:17.935673",
     "exception": false,
     "start_time": "2020-09-23T14:46:17.912925",
     "status": "completed"
    },
    "tags": []
   },
   "source": [
    "> Lets check out what is in annoted '.txt' files of audio files."
   ]
  },
  {
   "cell_type": "code",
   "execution_count": 4,
   "metadata": {
    "execution": {
     "iopub.execute_input": "2020-09-23T14:46:17.979371Z",
     "iopub.status.busy": "2020-09-23T14:46:17.978507Z",
     "iopub.status.idle": "2020-09-23T14:46:17.989699Z",
     "shell.execute_reply": "2020-09-23T14:46:17.990183Z"
    },
    "papermill": {
     "duration": 0.037841,
     "end_time": "2020-09-23T14:46:17.990303",
     "exception": false,
     "start_time": "2020-09-23T14:46:17.952462",
     "status": "completed"
    },
    "tags": []
   },
   "outputs": [
    {
     "data": {
      "text/html": [
       "<div>\n",
       "<style scoped>\n",
       "    .dataframe tbody tr th:only-of-type {\n",
       "        vertical-align: middle;\n",
       "    }\n",
       "\n",
       "    .dataframe tbody tr th {\n",
       "        vertical-align: top;\n",
       "    }\n",
       "\n",
       "    .dataframe thead th {\n",
       "        text-align: right;\n",
       "    }\n",
       "</style>\n",
       "<table border=\"1\" class=\"dataframe\">\n",
       "  <thead>\n",
       "    <tr style=\"text-align: right;\">\n",
       "      <th></th>\n",
       "      <th>1.862</th>\n",
       "      <th>5.718</th>\n",
       "      <th>0</th>\n",
       "      <th>1</th>\n",
       "    </tr>\n",
       "  </thead>\n",
       "  <tbody>\n",
       "    <tr>\n",
       "      <th>0</th>\n",
       "      <td>5.718</td>\n",
       "      <td>9.725</td>\n",
       "      <td>1</td>\n",
       "      <td>1</td>\n",
       "    </tr>\n",
       "    <tr>\n",
       "      <th>1</th>\n",
       "      <td>9.725</td>\n",
       "      <td>13.614</td>\n",
       "      <td>0</td>\n",
       "      <td>1</td>\n",
       "    </tr>\n",
       "    <tr>\n",
       "      <th>2</th>\n",
       "      <td>13.614</td>\n",
       "      <td>17.671</td>\n",
       "      <td>0</td>\n",
       "      <td>1</td>\n",
       "    </tr>\n",
       "    <tr>\n",
       "      <th>3</th>\n",
       "      <td>17.671</td>\n",
       "      <td>19.541</td>\n",
       "      <td>0</td>\n",
       "      <td>0</td>\n",
       "    </tr>\n",
       "  </tbody>\n",
       "</table>\n",
       "</div>"
      ],
      "text/plain": [
       "    1.862   5.718  0  1\n",
       "0   5.718   9.725  1  1\n",
       "1   9.725  13.614  0  1\n",
       "2  13.614  17.671  0  1\n",
       "3  17.671  19.541  0  0"
      ]
     },
     "execution_count": 4,
     "metadata": {},
     "output_type": "execute_result"
    }
   ],
   "source": [
    "df=pd.read_csv('/kaggle/input/respiratory-sound-database/Respiratory_Sound_Database/Respiratory_Sound_Database/audio_and_txt_files/160_1b3_Al_mc_AKGC417L.txt',sep='\\t')\n",
    "df.head()"
   ]
  },
  {
   "cell_type": "markdown",
   "metadata": {
    "papermill": {
     "duration": 0.017375,
     "end_time": "2020-09-23T14:46:18.026172",
     "exception": false,
     "start_time": "2020-09-23T14:46:18.008797",
     "status": "completed"
    },
    "tags": []
   },
   "source": [
    "* These are very usefull information namely (Start , End ( time of respiratory cycles) ,crackles,weezels)\n",
    "\n",
    "> So lets get them into a dataset\n",
    "\n",
    "> Note:- i use sep **' \\t '** cause we are reading data from text file which is sperated by tabs here"
   ]
  },
  {
   "cell_type": "code",
   "execution_count": 5,
   "metadata": {
    "execution": {
     "iopub.execute_input": "2020-09-23T14:46:18.068908Z",
     "iopub.status.busy": "2020-09-23T14:46:18.068360Z",
     "iopub.status.idle": "2020-09-23T14:46:18.106826Z",
     "shell.execute_reply": "2020-09-23T14:46:18.106410Z"
    },
    "papermill": {
     "duration": 0.06258,
     "end_time": "2020-09-23T14:46:18.106915",
     "exception": false,
     "start_time": "2020-09-23T14:46:18.044335",
     "status": "completed"
    },
    "tags": []
   },
   "outputs": [
    {
     "data": {
      "text/plain": [
       "['160_1b3_Al_mc_AKGC417L',\n",
       " '146_2b2_Pl_mc_AKGC417L',\n",
       " '130_2b2_Ll_mc_AKGC417L',\n",
       " '159_1b1_Pr_sc_Meditron',\n",
       " '130_1p4_Tc_mc_AKGC417L']"
      ]
     },
     "execution_count": 5,
     "metadata": {},
     "output_type": "execute_result"
    }
   ],
   "source": [
    "import os\n",
    "path='/kaggle/input/respiratory-sound-database/Respiratory_Sound_Database/Respiratory_Sound_Database/audio_and_txt_files/'\n",
    "files=[s.split('.')[0] for s in os.listdir(path) if '.txt' in s]\n",
    "files[:5]"
   ]
  },
  {
   "cell_type": "markdown",
   "metadata": {
    "papermill": {
     "duration": 0.017436,
     "end_time": "2020-09-23T14:46:18.142027",
     "exception": false,
     "start_time": "2020-09-23T14:46:18.124591",
     "status": "completed"
    },
    "tags": []
   },
   "source": [
    "> As mentioned in **filename_format.txt** , '.txt' files of annotated audio files have various information. So we will try to extract that too.  "
   ]
  },
  {
   "cell_type": "code",
   "execution_count": 6,
   "metadata": {
    "execution": {
     "iopub.execute_input": "2020-09-23T14:46:18.182464Z",
     "iopub.status.busy": "2020-09-23T14:46:18.181128Z",
     "iopub.status.idle": "2020-09-23T14:46:18.183594Z",
     "shell.execute_reply": "2020-09-23T14:46:18.184170Z"
    },
    "papermill": {
     "duration": 0.024627,
     "end_time": "2020-09-23T14:46:18.184282",
     "exception": false,
     "start_time": "2020-09-23T14:46:18.159655",
     "status": "completed"
    },
    "tags": []
   },
   "outputs": [],
   "source": [
    "def getFilenameInfo(file):\n",
    "    return file.split('_')"
   ]
  },
  {
   "cell_type": "code",
   "execution_count": 7,
   "metadata": {
    "execution": {
     "iopub.execute_input": "2020-09-23T14:46:18.224372Z",
     "iopub.status.busy": "2020-09-23T14:46:18.223752Z",
     "iopub.status.idle": "2020-09-23T14:46:18.229661Z",
     "shell.execute_reply": "2020-09-23T14:46:18.229226Z"
    },
    "papermill": {
     "duration": 0.027673,
     "end_time": "2020-09-23T14:46:18.229743",
     "exception": false,
     "start_time": "2020-09-23T14:46:18.202070",
     "status": "completed"
    },
    "tags": []
   },
   "outputs": [
    {
     "data": {
      "text/plain": [
       "['160', '1b3', 'Al', 'mc', 'AKGC417L']"
      ]
     },
     "execution_count": 7,
     "metadata": {},
     "output_type": "execute_result"
    }
   ],
   "source": [
    "getFilenameInfo('160_1b3_Al_mc_AKGC417L')"
   ]
  },
  {
   "cell_type": "markdown",
   "metadata": {
    "papermill": {
     "duration": 0.017295,
     "end_time": "2020-09-23T14:46:18.265012",
     "exception": false,
     "start_time": "2020-09-23T14:46:18.247717",
     "status": "completed"
    },
    "tags": []
   },
   "source": [
    "> Here useful info  is [Patient ID, __ ,__ ,Type(mono,stereo), __ ]"
   ]
  },
  {
   "cell_type": "code",
   "execution_count": 8,
   "metadata": {
    "execution": {
     "iopub.execute_input": "2020-09-23T14:46:18.311807Z",
     "iopub.status.busy": "2020-09-23T14:46:18.311197Z",
     "iopub.status.idle": "2020-09-23T14:46:22.381988Z",
     "shell.execute_reply": "2020-09-23T14:46:22.381525Z"
    },
    "papermill": {
     "duration": 4.099385,
     "end_time": "2020-09-23T14:46:22.382095",
     "exception": false,
     "start_time": "2020-09-23T14:46:18.282710",
     "status": "completed"
    },
    "tags": []
   },
   "outputs": [
    {
     "data": {
      "text/html": [
       "<div>\n",
       "<style scoped>\n",
       "    .dataframe tbody tr th:only-of-type {\n",
       "        vertical-align: middle;\n",
       "    }\n",
       "\n",
       "    .dataframe tbody tr th {\n",
       "        vertical-align: top;\n",
       "    }\n",
       "\n",
       "    .dataframe thead th {\n",
       "        text-align: right;\n",
       "    }\n",
       "</style>\n",
       "<table border=\"1\" class=\"dataframe\">\n",
       "  <thead>\n",
       "    <tr style=\"text-align: right;\">\n",
       "      <th></th>\n",
       "      <th>start</th>\n",
       "      <th>end</th>\n",
       "      <th>crackles</th>\n",
       "      <th>weezels</th>\n",
       "      <th>pid</th>\n",
       "      <th>mode</th>\n",
       "      <th>filename</th>\n",
       "    </tr>\n",
       "  </thead>\n",
       "  <tbody>\n",
       "    <tr>\n",
       "      <th>0</th>\n",
       "      <td>1.862</td>\n",
       "      <td>5.718</td>\n",
       "      <td>0</td>\n",
       "      <td>1</td>\n",
       "      <td>160</td>\n",
       "      <td>mc</td>\n",
       "      <td>160_1b3_Al_mc_AKGC417L</td>\n",
       "    </tr>\n",
       "    <tr>\n",
       "      <th>1</th>\n",
       "      <td>5.718</td>\n",
       "      <td>9.725</td>\n",
       "      <td>1</td>\n",
       "      <td>1</td>\n",
       "      <td>160</td>\n",
       "      <td>mc</td>\n",
       "      <td>160_1b3_Al_mc_AKGC417L</td>\n",
       "    </tr>\n",
       "    <tr>\n",
       "      <th>2</th>\n",
       "      <td>9.725</td>\n",
       "      <td>13.614</td>\n",
       "      <td>0</td>\n",
       "      <td>1</td>\n",
       "      <td>160</td>\n",
       "      <td>mc</td>\n",
       "      <td>160_1b3_Al_mc_AKGC417L</td>\n",
       "    </tr>\n",
       "    <tr>\n",
       "      <th>3</th>\n",
       "      <td>13.614</td>\n",
       "      <td>17.671</td>\n",
       "      <td>0</td>\n",
       "      <td>1</td>\n",
       "      <td>160</td>\n",
       "      <td>mc</td>\n",
       "      <td>160_1b3_Al_mc_AKGC417L</td>\n",
       "    </tr>\n",
       "    <tr>\n",
       "      <th>4</th>\n",
       "      <td>17.671</td>\n",
       "      <td>19.541</td>\n",
       "      <td>0</td>\n",
       "      <td>0</td>\n",
       "      <td>160</td>\n",
       "      <td>mc</td>\n",
       "      <td>160_1b3_Al_mc_AKGC417L</td>\n",
       "    </tr>\n",
       "  </tbody>\n",
       "</table>\n",
       "</div>"
      ],
      "text/plain": [
       "    start     end  crackles  weezels  pid mode                filename\n",
       "0   1.862   5.718         0        1  160   mc  160_1b3_Al_mc_AKGC417L\n",
       "1   5.718   9.725         1        1  160   mc  160_1b3_Al_mc_AKGC417L\n",
       "2   9.725  13.614         0        1  160   mc  160_1b3_Al_mc_AKGC417L\n",
       "3  13.614  17.671         0        1  160   mc  160_1b3_Al_mc_AKGC417L\n",
       "4  17.671  19.541         0        0  160   mc  160_1b3_Al_mc_AKGC417L"
      ]
     },
     "execution_count": 8,
     "metadata": {},
     "output_type": "execute_result"
    }
   ],
   "source": [
    "files_data=[]\n",
    "for file in files:\n",
    "    data=pd.read_csv(path + file + '.txt',sep='\\t',names=['start','end','crackles','weezels'])\n",
    "    name_data=getFilenameInfo(file)\n",
    "    data['pid']=name_data[0]\n",
    "    data['mode']=name_data[-2]\n",
    "    data['filename']=file\n",
    "    files_data.append(data)\n",
    "files_df=pd.concat(files_data)\n",
    "files_df.reset_index()\n",
    "files_df.head()"
   ]
  },
  {
   "cell_type": "markdown",
   "metadata": {
    "papermill": {
     "duration": 0.018105,
     "end_time": "2020-09-23T14:46:22.419170",
     "exception": false,
     "start_time": "2020-09-23T14:46:22.401065",
     "status": "completed"
    },
    "tags": []
   },
   "source": [
    "> Now we can join both **patient_data** and **files_df**"
   ]
  },
  {
   "cell_type": "code",
   "execution_count": 9,
   "metadata": {
    "execution": {
     "iopub.execute_input": "2020-09-23T14:46:22.473040Z",
     "iopub.status.busy": "2020-09-23T14:46:22.472165Z",
     "iopub.status.idle": "2020-09-23T14:46:22.478269Z",
     "shell.execute_reply": "2020-09-23T14:46:22.477400Z"
    },
    "papermill": {
     "duration": 0.040993,
     "end_time": "2020-09-23T14:46:22.478401",
     "exception": false,
     "start_time": "2020-09-23T14:46:22.437408",
     "status": "completed"
    },
    "tags": []
   },
   "outputs": [
    {
     "name": "stdout",
     "output_type": "stream",
     "text": [
      "<class 'pandas.core.frame.DataFrame'>\n",
      "RangeIndex: 126 entries, 0 to 125\n",
      "Data columns (total 2 columns):\n",
      " #   Column   Non-Null Count  Dtype \n",
      "---  ------   --------------  ----- \n",
      " 0   pid      126 non-null    int64 \n",
      " 1   disease  126 non-null    object\n",
      "dtypes: int64(1), object(1)\n",
      "memory usage: 2.1+ KB\n"
     ]
    }
   ],
   "source": [
    "patient_data.info()"
   ]
  },
  {
   "cell_type": "code",
   "execution_count": 10,
   "metadata": {
    "execution": {
     "iopub.execute_input": "2020-09-23T14:46:22.525212Z",
     "iopub.status.busy": "2020-09-23T14:46:22.524264Z",
     "iopub.status.idle": "2020-09-23T14:46:22.533042Z",
     "shell.execute_reply": "2020-09-23T14:46:22.532559Z"
    },
    "papermill": {
     "duration": 0.034734,
     "end_time": "2020-09-23T14:46:22.533178",
     "exception": false,
     "start_time": "2020-09-23T14:46:22.498444",
     "status": "completed"
    },
    "tags": []
   },
   "outputs": [
    {
     "name": "stdout",
     "output_type": "stream",
     "text": [
      "<class 'pandas.core.frame.DataFrame'>\n",
      "Int64Index: 6898 entries, 0 to 6\n",
      "Data columns (total 7 columns):\n",
      " #   Column    Non-Null Count  Dtype  \n",
      "---  ------    --------------  -----  \n",
      " 0   start     6898 non-null   float64\n",
      " 1   end       6898 non-null   float64\n",
      " 2   crackles  6898 non-null   int64  \n",
      " 3   weezels   6898 non-null   int64  \n",
      " 4   pid       6898 non-null   object \n",
      " 5   mode      6898 non-null   object \n",
      " 6   filename  6898 non-null   object \n",
      "dtypes: float64(2), int64(2), object(3)\n",
      "memory usage: 431.1+ KB\n"
     ]
    }
   ],
   "source": [
    "files_df.info()"
   ]
  },
  {
   "cell_type": "markdown",
   "metadata": {
    "papermill": {
     "duration": 0.019274,
     "end_time": "2020-09-23T14:46:22.571728",
     "exception": false,
     "start_time": "2020-09-23T14:46:22.552454",
     "status": "completed"
    },
    "tags": []
   },
   "source": [
    "> Lets get **pid** and **101** to same type and merge both dataframes on pid"
   ]
  },
  {
   "cell_type": "code",
   "execution_count": 11,
   "metadata": {
    "execution": {
     "iopub.execute_input": "2020-09-23T14:46:22.617962Z",
     "iopub.status.busy": "2020-09-23T14:46:22.616343Z",
     "iopub.status.idle": "2020-09-23T14:46:22.618566Z",
     "shell.execute_reply": "2020-09-23T14:46:22.618988Z"
    },
    "papermill": {
     "duration": 0.02817,
     "end_time": "2020-09-23T14:46:22.619090",
     "exception": false,
     "start_time": "2020-09-23T14:46:22.590920",
     "status": "completed"
    },
    "tags": []
   },
   "outputs": [],
   "source": [
    "patient_data.pid=patient_data.pid.astype('int32')\n",
    "files_df.pid=files_df.pid.astype('int32')"
   ]
  },
  {
   "cell_type": "code",
   "execution_count": 12,
   "metadata": {
    "execution": {
     "iopub.execute_input": "2020-09-23T14:46:22.666192Z",
     "iopub.status.busy": "2020-09-23T14:46:22.665671Z",
     "iopub.status.idle": "2020-09-23T14:46:22.685260Z",
     "shell.execute_reply": "2020-09-23T14:46:22.684781Z"
    },
    "papermill": {
     "duration": 0.047174,
     "end_time": "2020-09-23T14:46:22.685361",
     "exception": false,
     "start_time": "2020-09-23T14:46:22.638187",
     "status": "completed"
    },
    "tags": []
   },
   "outputs": [
    {
     "data": {
      "text/html": [
       "<div>\n",
       "<style scoped>\n",
       "    .dataframe tbody tr th:only-of-type {\n",
       "        vertical-align: middle;\n",
       "    }\n",
       "\n",
       "    .dataframe tbody tr th {\n",
       "        vertical-align: top;\n",
       "    }\n",
       "\n",
       "    .dataframe thead th {\n",
       "        text-align: right;\n",
       "    }\n",
       "</style>\n",
       "<table border=\"1\" class=\"dataframe\">\n",
       "  <thead>\n",
       "    <tr style=\"text-align: right;\">\n",
       "      <th></th>\n",
       "      <th>start</th>\n",
       "      <th>end</th>\n",
       "      <th>crackles</th>\n",
       "      <th>weezels</th>\n",
       "      <th>pid</th>\n",
       "      <th>mode</th>\n",
       "      <th>filename</th>\n",
       "      <th>disease</th>\n",
       "    </tr>\n",
       "  </thead>\n",
       "  <tbody>\n",
       "    <tr>\n",
       "      <th>0</th>\n",
       "      <td>1.862</td>\n",
       "      <td>5.718</td>\n",
       "      <td>0</td>\n",
       "      <td>1</td>\n",
       "      <td>160</td>\n",
       "      <td>mc</td>\n",
       "      <td>160_1b3_Al_mc_AKGC417L</td>\n",
       "      <td>COPD</td>\n",
       "    </tr>\n",
       "    <tr>\n",
       "      <th>1</th>\n",
       "      <td>5.718</td>\n",
       "      <td>9.725</td>\n",
       "      <td>1</td>\n",
       "      <td>1</td>\n",
       "      <td>160</td>\n",
       "      <td>mc</td>\n",
       "      <td>160_1b3_Al_mc_AKGC417L</td>\n",
       "      <td>COPD</td>\n",
       "    </tr>\n",
       "    <tr>\n",
       "      <th>2</th>\n",
       "      <td>9.725</td>\n",
       "      <td>13.614</td>\n",
       "      <td>0</td>\n",
       "      <td>1</td>\n",
       "      <td>160</td>\n",
       "      <td>mc</td>\n",
       "      <td>160_1b3_Al_mc_AKGC417L</td>\n",
       "      <td>COPD</td>\n",
       "    </tr>\n",
       "    <tr>\n",
       "      <th>3</th>\n",
       "      <td>13.614</td>\n",
       "      <td>17.671</td>\n",
       "      <td>0</td>\n",
       "      <td>1</td>\n",
       "      <td>160</td>\n",
       "      <td>mc</td>\n",
       "      <td>160_1b3_Al_mc_AKGC417L</td>\n",
       "      <td>COPD</td>\n",
       "    </tr>\n",
       "    <tr>\n",
       "      <th>4</th>\n",
       "      <td>17.671</td>\n",
       "      <td>19.541</td>\n",
       "      <td>0</td>\n",
       "      <td>0</td>\n",
       "      <td>160</td>\n",
       "      <td>mc</td>\n",
       "      <td>160_1b3_Al_mc_AKGC417L</td>\n",
       "      <td>COPD</td>\n",
       "    </tr>\n",
       "  </tbody>\n",
       "</table>\n",
       "</div>"
      ],
      "text/plain": [
       "    start     end  crackles  weezels  pid mode                filename disease\n",
       "0   1.862   5.718         0        1  160   mc  160_1b3_Al_mc_AKGC417L    COPD\n",
       "1   5.718   9.725         1        1  160   mc  160_1b3_Al_mc_AKGC417L    COPD\n",
       "2   9.725  13.614         0        1  160   mc  160_1b3_Al_mc_AKGC417L    COPD\n",
       "3  13.614  17.671         0        1  160   mc  160_1b3_Al_mc_AKGC417L    COPD\n",
       "4  17.671  19.541         0        0  160   mc  160_1b3_Al_mc_AKGC417L    COPD"
      ]
     },
     "execution_count": 12,
     "metadata": {},
     "output_type": "execute_result"
    }
   ],
   "source": [
    "data=pd.merge(files_df,patient_data,on='pid')\n",
    "data.head()"
   ]
  },
  {
   "cell_type": "code",
   "execution_count": 13,
   "metadata": {
    "execution": {
     "iopub.execute_input": "2020-09-23T14:46:22.730842Z",
     "iopub.status.busy": "2020-09-23T14:46:22.730334Z",
     "iopub.status.idle": "2020-09-23T14:46:22.970889Z",
     "shell.execute_reply": "2020-09-23T14:46:22.970028Z"
    },
    "papermill": {
     "duration": 0.264532,
     "end_time": "2020-09-23T14:46:22.971006",
     "exception": false,
     "start_time": "2020-09-23T14:46:22.706474",
     "status": "completed"
    },
    "tags": []
   },
   "outputs": [],
   "source": [
    "os.makedirs('csv_data')\n",
    "data.to_csv('csv_data/data.csv',index=False)"
   ]
  },
  {
   "cell_type": "markdown",
   "metadata": {
    "papermill": {
     "duration": 0.019974,
     "end_time": "2020-09-23T14:46:23.011147",
     "exception": false,
     "start_time": "2020-09-23T14:46:22.991173",
     "status": "completed"
    },
    "tags": []
   },
   "source": [
    "# Step 2 \n",
    "\n",
    "# Processing Audio files"
   ]
  },
  {
   "cell_type": "markdown",
   "metadata": {
    "papermill": {
     "duration": 0.019594,
     "end_time": "2020-09-23T14:46:23.050577",
     "exception": false,
     "start_time": "2020-09-23T14:46:23.030983",
     "status": "completed"
    },
    "tags": []
   },
   "source": [
    "> Now we only want that parts from whole audio file which contains **Respiratory Cycles** \n",
    "\n",
    "> We can do this by utilizing the start and end time specifiles for these cycles in our **data dataframe**"
   ]
  },
  {
   "cell_type": "code",
   "execution_count": 14,
   "metadata": {
    "execution": {
     "iopub.execute_input": "2020-09-23T14:46:23.098063Z",
     "iopub.status.busy": "2020-09-23T14:46:23.096277Z",
     "iopub.status.idle": "2020-09-23T14:46:23.098700Z",
     "shell.execute_reply": "2020-09-23T14:46:23.099131Z"
    },
    "papermill": {
     "duration": 0.028971,
     "end_time": "2020-09-23T14:46:23.099240",
     "exception": false,
     "start_time": "2020-09-23T14:46:23.070269",
     "status": "completed"
    },
    "tags": []
   },
   "outputs": [],
   "source": [
    "def getPureSample(raw_data,start,end,sr=22050):\n",
    "    '''\n",
    "    Takes a numpy array and spilts its using start and end args\n",
    "    \n",
    "    raw_data=numpy array of audio sample\n",
    "    start=time\n",
    "    end=time\n",
    "    sr=sampling_rate\n",
    "    mode=mono/stereo\n",
    "    \n",
    "    '''\n",
    "    max_ind = len(raw_data) \n",
    "    start_ind = min(int(start * sr), max_ind)\n",
    "    end_ind = min(int(end * sr), max_ind)\n",
    "    return raw_data[start_ind: end_ind]"
   ]
  },
  {
   "cell_type": "markdown",
   "metadata": {
    "papermill": {
     "duration": 0.020361,
     "end_time": "2020-09-23T14:46:23.139630",
     "exception": false,
     "start_time": "2020-09-23T14:46:23.119269",
     "status": "completed"
    },
    "tags": []
   },
   "source": [
    "* we multiplied start with sampling rate cause start is time and raw_data is array sampled acc. to sampling rate\n",
    "\n",
    "> Now we also want our input images to our cnn to be of same size for that audio files must be of **same length** i.e **(start - end)** must be same \n",
    "\n",
    "> Lets find the best length we can have"
   ]
  },
  {
   "cell_type": "code",
   "execution_count": 15,
   "metadata": {
    "execution": {
     "iopub.execute_input": "2020-09-23T14:46:23.184749Z",
     "iopub.status.busy": "2020-09-23T14:46:23.184204Z",
     "iopub.status.idle": "2020-09-23T14:46:23.412355Z",
     "shell.execute_reply": "2020-09-23T14:46:23.412776Z"
    },
    "papermill": {
     "duration": 0.253218,
     "end_time": "2020-09-23T14:46:23.412916",
     "exception": false,
     "start_time": "2020-09-23T14:46:23.159698",
     "status": "completed"
    },
    "tags": []
   },
   "outputs": [
    {
     "data": {
      "text/plain": [
       "<matplotlib.axes._subplots.AxesSubplot at 0x7f2adef18610>"
      ]
     },
     "execution_count": 15,
     "metadata": {},
     "output_type": "execute_result"
    },
    {
     "data": {
      "image/png": "[encoded data removed]",
      "text/plain": [
       "<Figure size 432x288 with 1 Axes>"
      ]
     },
     "metadata": {
      "needs_background": "light"
     },
     "output_type": "display_data"
    }
   ],
   "source": [
    "sns.scatterplot(x=(data.end-data.start), y=data.pid)"
   ]
  },
  {
   "cell_type": "code",
   "execution_count": 16,
   "metadata": {
    "execution": {
     "iopub.execute_input": "2020-09-23T14:46:23.466050Z",
     "iopub.status.busy": "2020-09-23T14:46:23.461054Z",
     "iopub.status.idle": "2020-09-23T14:46:23.559588Z",
     "shell.execute_reply": "2020-09-23T14:46:23.559160Z"
    },
    "papermill": {
     "duration": 0.124814,
     "end_time": "2020-09-23T14:46:23.559679",
     "exception": false,
     "start_time": "2020-09-23T14:46:23.434865",
     "status": "completed"
    },
    "tags": []
   },
   "outputs": [
    {
     "data": {
      "text/plain": [
       "<matplotlib.axes._subplots.AxesSubplot at 0x7f2addd2d510>"
      ]
     },
     "execution_count": 16,
     "metadata": {},
     "output_type": "execute_result"
    },
    {
     "data": {
      "image/png": "[encoded data removed]",
      "text/plain": [
       "<Figure size 432x288 with 1 Axes>"
      ]
     },
     "metadata": {
      "needs_background": "light"
     },
     "output_type": "display_data"
    }
   ],
   "source": [
    "sns.boxplot(y=(data.end-data.start))"
   ]
  },
  {
   "cell_type": "markdown",
   "metadata": {
    "papermill": {
     "duration": 0.022852,
     "end_time": "2020-09-23T14:46:23.605408",
     "exception": false,
     "start_time": "2020-09-23T14:46:23.582556",
     "status": "completed"
    },
    "tags": []
   },
   "source": [
    "> From these plots we can conclude that best length is **~6**\n",
    "\n",
    "> Also if difference is <6 we must **Zero Pad** it to get it to required length\n",
    "\n",
    "> Zero Padding means **silent**\n"
   ]
  },
  {
   "cell_type": "markdown",
   "metadata": {
    "papermill": {
     "duration": 0.023002,
     "end_time": "2020-09-23T14:46:23.651274",
     "exception": false,
     "start_time": "2020-09-23T14:46:23.628272",
     "status": "completed"
    },
    "tags": []
   },
   "source": [
    "> Lets create a directory for storing our files"
   ]
  },
  {
   "cell_type": "code",
   "execution_count": 17,
   "metadata": {
    "execution": {
     "iopub.execute_input": "2020-09-23T14:46:23.702343Z",
     "iopub.status.busy": "2020-09-23T14:46:23.701733Z",
     "iopub.status.idle": "2020-09-23T14:46:23.705277Z",
     "shell.execute_reply": "2020-09-23T14:46:23.705879Z"
    },
    "papermill": {
     "duration": 0.031604,
     "end_time": "2020-09-23T14:46:23.705992",
     "exception": false,
     "start_time": "2020-09-23T14:46:23.674388",
     "status": "completed"
    },
    "tags": []
   },
   "outputs": [],
   "source": [
    "os.makedirs('processed_audio_files')"
   ]
  },
  {
   "cell_type": "markdown",
   "metadata": {
    "papermill": {
     "duration": 0.022859,
     "end_time": "2020-09-23T14:46:23.751868",
     "exception": false,
     "start_time": "2020-09-23T14:46:23.729009",
     "status": "completed"
    },
    "tags": []
   },
   "source": [
    "* We can iterate over dataset using iterrows, its output is as shown"
   ]
  },
  {
   "cell_type": "code",
   "execution_count": 18,
   "metadata": {
    "execution": {
     "iopub.execute_input": "2020-09-23T14:46:23.803012Z",
     "iopub.status.busy": "2020-09-23T14:46:23.802197Z",
     "iopub.status.idle": "2020-09-23T14:46:23.809163Z",
     "shell.execute_reply": "2020-09-23T14:46:23.809711Z"
    },
    "papermill": {
     "duration": 0.035255,
     "end_time": "2020-09-23T14:46:23.809823",
     "exception": false,
     "start_time": "2020-09-23T14:46:23.774568",
     "status": "completed"
    },
    "tags": []
   },
   "outputs": [
    {
     "name": "stdout",
     "output_type": "stream",
     "text": [
      "Index -> 0\n",
      "Data->\n",
      " start                        1.862\n",
      "end                          5.718\n",
      "crackles                         0\n",
      "weezels                          1\n",
      "pid                            160\n",
      "mode                            mc\n",
      "filename    160_1b3_Al_mc_AKGC417L\n",
      "disease                       COPD\n",
      "Name: 0, dtype: object\n"
     ]
    }
   ],
   "source": [
    "for index,row in data.iterrows():\n",
    "    print(\"Index ->\",index)\n",
    "    print(\"Data->\\n\",row)\n",
    "    break"
   ]
  },
  {
   "cell_type": "markdown",
   "metadata": {
    "papermill": {
     "duration": 0.023152,
     "end_time": "2020-09-23T14:46:23.856010",
     "exception": false,
     "start_time": "2020-09-23T14:46:23.832858",
     "status": "completed"
    },
    "tags": []
   },
   "source": [
    "> Also a single sample of audio file can have **Many Respiratory Cycles** so we might have to same multiple files for a simple audio file\n",
    "\n",
    "> I will be using **Librosa** module for loading audio files and **Soundfile** module for writing to output path\n",
    "\n",
    "> **Study The following Function Carefully**"
   ]
  },
  {
   "cell_type": "code",
   "execution_count": 19,
   "metadata": {
    "execution": {
     "iopub.execute_input": "2020-09-23T14:46:23.913338Z",
     "iopub.status.busy": "2020-09-23T14:46:23.912502Z",
     "iopub.status.idle": "2020-09-23T16:16:01.326209Z",
     "shell.execute_reply": "2020-09-23T16:16:01.326673Z"
    },
    "papermill": {
     "duration": 5377.447599,
     "end_time": "2020-09-23T16:16:01.326826",
     "exception": false,
     "start_time": "2020-09-23T14:46:23.879227",
     "status": "completed"
    },
    "tags": []
   },
   "outputs": [
    {
     "name": "stdout",
     "output_type": "stream",
     "text": [
      "Total Files Processed:  6898\n"
     ]
    }
   ],
   "source": [
    "import librosa as lb\n",
    "import soundfile as sf\n",
    "i,c=0,0\n",
    "for index,row in data.iterrows():\n",
    "    maxLen=6\n",
    "    start=row['start']\n",
    "    end=row['end']\n",
    "    filename=row['filename']\n",
    "    \n",
    "    #If len > maxLen , change it to maxLen\n",
    "    if end-start>maxLen:\n",
    "        end=start+maxLen\n",
    "    \n",
    "    audio_file_loc=path + filename + '.wav'\n",
    "    \n",
    "    if index > 0:\n",
    "        #check if more cycles exits for same patient if so then add i to change filename\n",
    "        if data.iloc[index-1]['filename']==filename:\n",
    "            i+=1\n",
    "        else:\n",
    "            i=0\n",
    "    filename= filename + '_' + str(i) + '.wav'\n",
    "    \n",
    "    save_path='processed_audio_files/' + filename\n",
    "    c+=1\n",
    "    \n",
    "    audioArr,sampleRate=lb.load(audio_file_loc)\n",
    "    pureSample=getPureSample(audioArr,start,end,sampleRate)\n",
    "    \n",
    "    #pad audio if pureSample len < max_len\n",
    "    reqLen=6*sampleRate\n",
    "    padded_data = lb.util.pad_center(pureSample, reqLen)\n",
    "    \n",
    "    sf.write(file=save_path,data=padded_data,samplerate=sampleRate)\n",
    "print('Total Files Processed: ',c)"
   ]
  }
 ],
 "metadata": {
  "kernelspec": {
   "display_name": "Python 3",
   "language": "python",
   "name": "python3"
  },
  "language_info": {
   "codemirror_mode": {
    "name": "ipython",
    "version": 3
   },
   "file_extension": ".py",
   "mimetype": "text/x-python",
   "name": "python",
   "nbconvert_exporter": "python",
   "pygments_lexer": "ipython3",
   "version": "3.7.6"
  },
  "papermill": {
   "duration": 5395.179099,
   "end_time": "2020-09-23T16:16:01.458198",
   "environment_variables": {},
   "exception": null,
   "input_path": "__notebook__.ipynb",
   "output_path": "__notebook__.ipynb",
   "parameters": {},
   "start_time": "2020-09-23T14:46:06.279099",
   "version": "2.1.0"
  }
 },
 "nbformat": 4,
 "nbformat_minor": 4
}
